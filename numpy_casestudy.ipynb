{
 "cells": [
  {
   "cell_type": "markdown",
   "id": "8048da80",
   "metadata": {},
   "source": [
    "# Importing numpy\n"
   ]
  },
  {
   "cell_type": "code",
   "execution_count": 4,
   "id": "80944148",
   "metadata": {},
   "outputs": [],
   "source": [
    "import numpy as np\n"
   ]
  },
  {
   "cell_type": "markdown",
   "id": "20d599a9",
   "metadata": {},
   "source": [
    "# Creating numpy arrays\n"
   ]
  },
  {
   "cell_type": "code",
   "execution_count": 5,
   "id": "9686426f",
   "metadata": {},
   "outputs": [
    {
     "name": "stdout",
     "output_type": "stream",
     "text": [
      "[1 2 3 4 5]\n",
      "[[1 2 3]\n",
      " [4 5 6]]\n",
      "[[0. 0. 0. 0.]\n",
      " [0. 0. 0. 0.]\n",
      " [0. 0. 0. 0.]]\n",
      "[[1. 1.]\n",
      " [1. 1.]]\n"
     ]
    }
   ],
   "source": [
    "#create a 1-dimensional array\n",
    "a= np.array([1,2,3,4,5])\n",
    "print(a)\n",
    "\n",
    "#create a 2-dimensional array\n",
    "b=np.array([[1,2,3],[4,5,6]])\n",
    "print(b)\n",
    "\n",
    "#create an array of zeros\n",
    "c=np.zeros((3,4))\n",
    "print(c)\n",
    "\n",
    "#create an array of ones\n",
    "d=np.ones((2,2))\n",
    "print(d)"
   ]
  },
  {
   "cell_type": "markdown",
   "id": "c2454a49",
   "metadata": {},
   "source": [
    "###  Performing mathematical operations on NumPy arrays"
   ]
  },
  {
   "cell_type": "code",
   "execution_count": 6,
   "id": "fb07673b",
   "metadata": {},
   "outputs": [
    {
     "name": "stdout",
     "output_type": "stream",
     "text": [
      "[5 7 9]\n",
      "[[ 5 12]\n",
      " [21 32]]\n",
      "[[19 22]\n",
      " [43 50]]\n"
     ]
    }
   ],
   "source": [
    "#add two arrays\n",
    "a=np.array([1,2,3])\n",
    "b=np.array([4,5,6])\n",
    "c=a+b\n",
    "print(c)\n",
    "\n",
    "#multiply two arrays\n",
    "d=np.array([[1,2],[3,4]])\n",
    "e=np.array([[5,6],[7,8]])\n",
    "f=d*e\n",
    "print(f)\n",
    "\n",
    "#perform matrix multiplication\n",
    "g=np.array([[1,2],[3,4]])\n",
    "h=np.array([[5,6],[7,8]])\n",
    "i=np.dot(g,h)\n",
    "print(i)"
   ]
  },
  {
   "cell_type": "code",
   "execution_count": null,
   "id": "f0eded4f",
   "metadata": {},
   "outputs": [],
   "source": []
  }
 ],
 "metadata": {
  "kernelspec": {
   "display_name": "Python 3 (ipykernel)",
   "language": "python",
   "name": "python3"
  },
  "language_info": {
   "codemirror_mode": {
    "name": "ipython",
    "version": 3
   },
   "file_extension": ".py",
   "mimetype": "text/x-python",
   "name": "python",
   "nbconvert_exporter": "python",
   "pygments_lexer": "ipython3",
   "version": "3.10.9"
  }
 },
 "nbformat": 4,
 "nbformat_minor": 5
}
